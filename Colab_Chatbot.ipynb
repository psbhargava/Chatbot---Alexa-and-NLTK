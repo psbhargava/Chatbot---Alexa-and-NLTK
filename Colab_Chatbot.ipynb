{
 "cells": [
  {
   "cell_type": "code",
   "execution_count": 1,
   "metadata": {
    "colab": {},
    "colab_type": "code",
    "id": "tpZ-i7ndxPzU"
   },
   "outputs": [],
   "source": [
    "#from textblob import TextBlob\n",
    "#from attributegetter import *\n",
    "#from generatengrams import ngrammatch\n",
    "#from Contexts import *\n",
    "import json\n",
    "#from Intents import *\n",
    "import random\n",
    "import os\n",
    "import re"
   ]
  },
  {
   "cell_type": "markdown",
   "metadata": {
    "colab_type": "text",
    "id": "glof0j-Sn5zu"
   },
   "source": [
    "### Run the below code to download the Chatbot_V3.zip file"
   ]
  },
  {
   "cell_type": "code",
   "execution_count": null,
   "metadata": {
    "colab": {
     "base_uri": "https://localhost:8080/",
     "height": 210
    },
    "colab_type": "code",
    "executionInfo": {
     "elapsed": 9558,
     "status": "ok",
     "timestamp": 1567679685909,
     "user": {
      "displayName": "AIML Support",
      "photoUrl": "",
      "userId": "10944637975474083227"
     },
     "user_tz": -330
    },
    "id": "nxnnc53Zx-c9",
    "outputId": "b26eef25-7de2-4599-e011-4184e78499d3"
   },
   "outputs": [],
   "source": [
    "!wget https://cdn.talentsprint.com/aiml/Hackathon2/Chatbot_V3.zip"
   ]
  },
  {
   "cell_type": "code",
   "execution_count": null,
   "metadata": {
    "colab": {
     "base_uri": "https://localhost:8080/",
     "height": 263
    },
    "colab_type": "code",
    "id": "rMf0wjJ5yL6H",
    "outputId": "a88959bb-0e12-41c7-ab23-84ee708d638b"
   },
   "outputs": [],
   "source": [
    "!unzip Chatbot_V3.zip"
   ]
  },
  {
   "cell_type": "markdown",
   "metadata": {
    "colab_type": "text",
    "id": "eZ-6NyTPNqBr"
   },
   "source": [
    "### It is recommended to watch the Demystifying Chatbots Video"
   ]
  },
  {
   "cell_type": "code",
   "execution_count": null,
   "metadata": {
    "cellView": "form",
    "colab": {
     "base_uri": "https://localhost:8080/",
     "height": 320
    },
    "colab_type": "code",
    "executionInfo": {
     "elapsed": 1989,
     "status": "ok",
     "timestamp": 1567667082505,
     "user": {
      "displayName": "AIML Support",
      "photoUrl": "",
      "userId": "10944637975474083227"
     },
     "user_tz": -330
    },
    "id": "nStQb8L1QJE9",
    "outputId": "03c947f6-82ea-4a0f-a1f9-6ae3194e9f0b"
   },
   "outputs": [],
   "source": [
    "#@title Demystifying Chatbot Video\n",
    "from IPython.display import HTML\n",
    "\n",
    "HTML(\"\"\"<video width=\"800\" height=\"300\" controls>\n",
    "  <source src=\"https://cdn.talentsprint.com/talentsprint/archives/sc/aiml/aiml_action_workshop_part_3.mp4\" type=\"video/mp4\">\n",
    "</video>\n",
    "\"\"\")\n",
    "\n"
   ]
  },
  {
   "cell_type": "markdown",
   "metadata": {
    "colab_type": "text",
    "id": "YAiFnWx9oitv"
   },
   "source": [
    "### It is recommended to watch the chatbot code explanation video before you start going through the code"
   ]
  },
  {
   "cell_type": "code",
   "execution_count": null,
   "metadata": {
    "cellView": "form",
    "colab": {},
    "colab_type": "code",
    "id": "_oYUp7mGglBW"
   },
   "outputs": [],
   "source": [
    "#@title Chatbot Code Explanation Video\n",
    "from IPython.display import HTML\n",
    "\n",
    "HTML(\"\"\"<video width=\"800\" height=\"300\" controls>\n",
    "  <source src=\"https://cdn.talentsprint.com/talentsprint/archives/sc/aiml/chatbot_code.mp4\" type=\"video/mp4\">\n",
    "</video>\n",
    "\"\"\")"
   ]
  },
  {
   "cell_type": "markdown",
   "metadata": {
    "colab_type": "text",
    "id": "Dc2HxqZeofzg"
   },
   "source": [
    "### Here is the brief introduction to the methods and classes present in the chatbot"
   ]
  },
  {
   "cell_type": "markdown",
   "metadata": {
    "colab_type": "text",
    "id": "D7hlFsGdprgg"
   },
   "source": [
    "<b> Terminology: </b>\n",
    "\n",
    "\n",
    "\n",
    "*   **Intents** - We have a class for Intent object for every Intent we have it's name and particular action and parameters. For parameters we load a 'Parameter' object and it has name, prompts, placeholder etc...\n",
    "*   **Contexts** - Here contexts are some flags which we switched on with each of the parameter or these can be used in conditional if-else statements. Below are the functions:\n",
    "\n",
    "    - **activate_context( )** and\n",
    "\n",
    "    - **deactivate_context( )**  \n",
    "\n",
    "* we also have classes like \n",
    "\n",
    "    - **SpellConformation( )**,\n",
    "    - **FirstGreeting( )**, \n",
    "    - **GetRegNo( )** , \n",
    "    - **IntentComplete( )** etc..\n",
    "\n",
    "\n",
    "\n",
    "    "
   ]
  },
  {
   "cell_type": "markdown",
   "metadata": {
    "colab_type": "text",
    "id": "V9fHBxSLtsXJ"
   },
   "source": [
    "Session class is one active session of the chatbot which the user interacts with. Let's go in to the details:\n",
    "\n",
    "**reply( )** is the important one in our session object it takes user_input as parameter and calls different modules of our chatbot architecture:\n",
    "\n",
    "\n",
    "*   **input_processor( )** - It helps in preprocessing and fetching the entities that we can identify in the ready state\n",
    "    \n",
    "    - **getattributes( )** - It helps in identifying all the entities in the user utterance. We fetch them and map to our parameters\n",
    "    \n",
    "    \n",
    "*   **intentIdentifier( )**\n",
    "\n",
    "    - **generatengrams** - N-grams are contiguous sequences of n-items in a sentence. When performing machine learning tasks related to natural language processing, we usually need to generate n-grams from input sentences.\n",
    "     **ngrammatch( )** - generates sequence of words, this algorithm checks for how many unigrams, bigrams, trigrams are common between the utterances for your particular intent and your current user input.\n",
    "     \n",
    "\n",
    "*   **check_required_params( )** - Based on the current intents we go over it's parameters\n",
    "\n",
    "*   **check_actions( )** - This function performs the action for the intent\n",
    "\n",
    "\n",
    "       \n"
   ]
  },
  {
   "cell_type": "markdown",
   "metadata": {
    "colab_type": "text",
    "id": "wux4KwjRxeYV"
   },
   "source": [
    "### Context"
   ]
  },
  {
   "cell_type": "code",
   "execution_count": 2,
   "metadata": {
    "colab": {},
    "colab_type": "code",
    "id": "7pyAt_6R1ld3"
   },
   "outputs": [],
   "source": [
    "class Context(object):\n",
    "\n",
    "\tdef __init__(self,name):\n",
    "\t\tself.lifespan = 2\n",
    "\t\tself.name = name\n",
    "\t\tself.active = False\n",
    "\n",
    "\tdef activate_context(self):\n",
    "\t\tself.active = True\n",
    "\n",
    "\tdef deactivate_context(self):\n",
    "\t\tself.active = False\n",
    "\n",
    "\t\tdef decrease_lifespan(self):\n",
    "\t\t\tself.lifespan -= 1\n",
    "\t\t\tif self.lifespan==0:\n",
    "\t\t\t\tself.deactivate_context()\n",
    "\n",
    "class FirstGreeting(Context):\n",
    "\n",
    "\tdef __init__(self):\n",
    "\t\tself.lifespan = 1\n",
    "\t\tself.name = 'FirstGreeting'\n",
    "\t\tself.active = True\n",
    "\n",
    "class GetRegNo(Context):\n",
    "\n",
    "\tdef __init__(self):\n",
    "\t\tprint('Hi')\n",
    "\t\tself.lifespan = 1\n",
    "\t\tself.name = 'GetRegNo'\n",
    "\t\tself.active = True\n",
    "\n",
    "class IntentComplete(Context):\n",
    "\n",
    "\tdef __init__(self):\n",
    "\t\tself.lifespan = 1\n",
    "\t\tself.name = 'IntentComplete'\n",
    "\t\tself.active = True\n",
    "\n",
    "class SpellConformation(Context):\n",
    "\n",
    "\tdef __init__(self,index,CorrectWord,user_input,context):\n",
    "\t\tself.lifespan = 1\n",
    "\t\tself.name = 'SpellConformation'\n",
    "\t\tself.active = True\n",
    "\t\tself.index = index\n",
    "\t\tself.correct = CorrectWord\n",
    "\t\tself.tobecorrected = user_input\n",
    "\t\tself.contexttobestored = context"
   ]
  },
  {
   "cell_type": "markdown",
   "metadata": {
    "colab_type": "text",
    "id": "F0daCYgkxlHA"
   },
   "source": [
    "### generatengrams"
   ]
  },
  {
   "cell_type": "code",
   "execution_count": 3,
   "metadata": {
    "colab": {},
    "colab_type": "code",
    "id": "4-zMKi5kxjzk"
   },
   "outputs": [],
   "source": [
    "import os\n",
    "\n",
    "limit = 3\n",
    "\n",
    "def ngrams(lines):\n",
    "    global limit\n",
    "    ngrams = []\n",
    "    for i in range(1, limit+1):\n",
    "        ndict = {}\n",
    "        for line in lines:\n",
    "            nline = ['<START>']*i + line + ['<END>']*i\n",
    "            for x in range(len(nline)- i) :\n",
    "                key = '_'.join(nline[x:x+i])\n",
    "                if key in ndict.keys():\n",
    "                    ndict[key] += 1\n",
    "                else:\n",
    "                    ndict[key] = 1\n",
    "        ngrams += [ndict]\n",
    "    return ngrams\n",
    "\n",
    "def cleanLines(lines):\n",
    "    for i in range(len(lines)):\n",
    "        lines[i] = lines[i][:-1].split()\n",
    "        for x in range(len(lines[i])):\n",
    "            lines[i][x] = lines[i][x].lower()\n",
    "    return lines\n",
    "\n",
    "def score(uinput, tngramsdict):\n",
    "    global limit\n",
    "    scores = []\n",
    "    uinput = [uinput.lower().split()]\n",
    "    cur_ngramsdict = ngrams(uinput)\n",
    "    for key in tngramsdict:\n",
    "        ngramsdict = tngramsdict[key]\n",
    "        fscore = 0.0\n",
    "        for i in range(len(cur_ngramsdict)):\n",
    "            cur_dict = cur_ngramsdict[i]\n",
    "            ansdict = ngramsdict[i]\n",
    "\n",
    "            precision = 0\n",
    "            for i in cur_dict.keys():\n",
    "                if i in ansdict.keys():\n",
    "                    precision+=1\n",
    "\n",
    "            recall = 0\n",
    "            for i in ansdict.keys():\n",
    "                if i in cur_dict.keys():\n",
    "                    recall+=1\n",
    "\n",
    "            fscore += 1.0/float((len(ansdict.keys())/float(precision) + len(ansdict.keys())/float(recall)))\n",
    "        scores+= [(key,fscore)]\n",
    "    return scores\n",
    "\n",
    "def init():\n",
    "    ngramsdict = {}\n",
    "    path = './intents/'\n",
    "\n",
    "    for fil in os.listdir(path):\n",
    "        if fil.endswith('.dat'):\n",
    "            with open(path + fil) as f:\n",
    "                lines = f.readlines()\n",
    "                lines = cleanLines(lines)\n",
    "                ngramsdict[''.join(fil.split('.')[:-1])] = ngrams(lines)\n",
    "    return ngramsdict\n",
    "\n",
    "def ngrammatch(uinput):\n",
    "    ngramsdict = init()\n",
    "    scores = score(uinput, ngramsdict)\n",
    "    #print scores\n",
    "    return scores\n"
   ]
  },
  {
   "cell_type": "markdown",
   "metadata": {
    "colab_type": "text",
    "id": "QO24KH8MDtW1"
   },
   "source": [
    "### Intents "
   ]
  },
  {
   "cell_type": "code",
   "execution_count": 4,
   "metadata": {
    "colab": {},
    "colab_type": "code",
    "id": "5TSmhl43xrFE"
   },
   "outputs": [],
   "source": [
    "from abc import ABCMeta, abstractmethod\n",
    "class Intent(object):\n",
    "\n",
    "\n",
    "\tdef __init__(self, name, params, action):\n",
    "\t\tself.name = name\n",
    "\t\tself.action = action\n",
    "\t\tself.params = []\n",
    "\t\tfor param in params:\n",
    "\t\t\t# print param['required']\n",
    "\t\t\tself.params += [Parameter(param)]\n",
    "\n",
    "class Parameter():\n",
    "\tdef __init__(self, info):\n",
    "\t\tself.name = info['name']\n",
    "\t\tself.placeholder = info['placeholder']\n",
    "\t\tself.prompts = info['prompts']\n",
    "\t\tself.required = info['required']\n",
    "\t\tself.context = info['context']"
   ]
  },
  {
   "cell_type": "code",
   "execution_count": 5,
   "metadata": {
    "colab": {},
    "colab_type": "code",
    "id": "rOSOi2L4xPzZ"
   },
   "outputs": [],
   "source": [
    "def check_actions(current_intent, attributes, context):\n",
    "    '''This function performs the action for the intent\n",
    "    as mentioned in the intent config file'''\n",
    "    '''Performs actions pertaining to current intent\n",
    "    for action in current_intent.actions:\n",
    "        if action.contexts_satisfied(active_contexts):\n",
    "            return perform_action()\n",
    "    '''\n",
    "\n",
    "    context = IntentComplete()\n",
    "    return 'action: ' + current_intent.action, context\n",
    "\n",
    "def check_required_params(current_intent, attributes, context):\n",
    "    '''Collects attributes pertaining to the current intent'''\n",
    "    \n",
    "    for para in current_intent.params:\n",
    "        if para.required:\n",
    "            if para.name not in attributes:\n",
    "                #Example of where the context is born, implemented in Contexts.py\n",
    "                if para.name=='RegNo':\n",
    "                    context = GetRegNo()\n",
    "                #returning a random prompt from available choices.\n",
    "                return random.choice(para.prompts), context\n",
    "\n",
    "    return None, context\n",
    "\n",
    "\n",
    "def input_processor(user_input, context, attributes, intent):\n",
    "    '''Spellcheck and entity extraction functions go here'''\n",
    "    \n",
    "    #uinput = TextBlob(user_input).correct().string\n",
    "    \n",
    "    #update the attributes, abstract over the entities in user input\n",
    "    attributes, cleaned_input = getattributes(user_input, context, attributes)\n",
    "    \n",
    "    return attributes, cleaned_input\n",
    "\n",
    "def loadIntent(path, intent):\n",
    "    with open(path) as fil:\n",
    "        dat = json.load(fil)\n",
    "        intent = dat[intent]\n",
    "        return Intent(intent['intentname'],intent['Parameters'], intent['actions'])\n",
    "\n",
    "def intentIdentifier(clean_input, context,current_intent):\n",
    "    clean_input = clean_input.lower()\n",
    "    \n",
    "    #Scoring Algorithm, can be changed.\n",
    "    scores = ngrammatch(clean_input)\n",
    "    \n",
    "    #choosing here the intent with the highest score\n",
    "    scores = sorted_by_second = sorted(scores, key=lambda tup: tup[1])\n",
    "    # print clean_input\n",
    "    #print 'scores', scores\n",
    "    \n",
    "\n",
    "    if(current_intent==None):\n",
    "        if(clean_input==\"search\"):\n",
    "            return loadIntent('params/newparams.cfg', 'SearchStore')\n",
    "        if(clean_input=='book'):\n",
    "            return loadIntent('params/newparams.cfg','OrderBook')\n",
    "        else:\n",
    "            return loadIntent('params/newparams.cfg',scores[-1][0])\n",
    "    else:\n",
    "        #If current intent is not none, stick with the ongoing intent\n",
    "        return current_intent\n",
    "\n",
    "def getattributes(uinput,context,attributes):\n",
    "    '''This function marks the entities in user input, and updates\n",
    "    the attributes dictionary'''\n",
    "    #Can use context to context specific attribute fetching\n",
    "    if context.name.startswith('IntentComplete'):\n",
    "        return attributes, uinput\n",
    "    else:\n",
    "        #Code can be optimised here, loading the same files each time suboptimal \n",
    "        files = os.listdir('./entities/')\n",
    "        entities = {}\n",
    "        for fil in files:\n",
    "            if fil == \".ipynb_checkpoints\":\n",
    "                continue\n",
    "            lines = open('./entities/'+fil).readlines()\n",
    "            for i, line in enumerate(lines):\n",
    "                lines[i] = line[:-1]\n",
    "            entities[fil[:-4]] = '|'.join(lines)\n",
    "\n",
    "        #Extract entity and update it in attributes dict\n",
    "        for entity in entities:\n",
    "            for i in entities[entity].split('|'):\n",
    "                if i.lower() in uinput.lower():\n",
    "                    attributes[entity] = i\n",
    "        for entity in entities:\n",
    "                uinput = re.sub(entities[entity],r'$'+entity,uinput,flags=re.IGNORECASE)\n",
    "\n",
    "        #Example of where the context is being used to do conditional branching.\n",
    "        if context.name=='GetRegNo' and context.active:\n",
    "            print(attributes)\n",
    "            match = re.search('[0-9]+', uinput)\n",
    "            if match:\n",
    "                uinput = re.sub('[0-9]+', '$regno', uinput)\n",
    "                attributes['RegNo'] = match.group()\n",
    "                context.active = False\n",
    "\n",
    "        return attributes, uinput"
   ]
  },
  {
   "cell_type": "code",
   "execution_count": 6,
   "metadata": {
    "colab": {},
    "colab_type": "code",
    "id": "GBoztIsWxPzd"
   },
   "outputs": [],
   "source": [
    "class Session:\n",
    "    def __init__(self, attributes=None, active_contexts=[FirstGreeting(), IntentComplete() ]):\n",
    "        \n",
    "        '''Initialise a default session'''\n",
    "        \n",
    "        #Active contexts not used yet, can use it to have multiple contexts\n",
    "        self.active_contexts = active_contexts\n",
    "        \n",
    "        #Contexts are flags which control dialogue flow, see Contexts.py        \n",
    "        self.context = FirstGreeting()\n",
    "        \n",
    "        #Intent tracks the current state of dialogue\n",
    "        #self.current_intent = First_Greeting()\n",
    "        self.current_intent = None\n",
    "        \n",
    "        #attributes hold the information collected over the conversation\n",
    "        self.attributes = {}\n",
    "        \n",
    "    def update_contexts(self):\n",
    "        '''Not used yet, but is intended to maintain active contexts'''\n",
    "        for context in self.active_contexts:\n",
    "            if context.active:\n",
    "                context.decrease_lifespan()\n",
    "\n",
    "    def reply(self, user_input):\n",
    "        '''Generate response to user input'''\n",
    "        \n",
    "        self.attributes, clean_input = input_processor(user_input, self.context, self.attributes, self.current_intent)\n",
    "        \n",
    "        self.current_intent = intentIdentifier(clean_input, self.context, self.current_intent)\n",
    "        \n",
    "        prompt, self.context = check_required_params(self.current_intent, self.attributes, self.context)\n",
    "\n",
    "        #prompt being None means all parameters satisfied, perform the intent action\n",
    "        if prompt is None:\n",
    "            if self.context.name!='IntentComplete':\n",
    "                prompt, self.context = check_actions(self.current_intent, self.attributes, self.context)\n",
    "        \n",
    "        #Resets the state after the Intent is complete\n",
    "        if self.context.name=='IntentComplete':\n",
    "            self.attributes = {}\n",
    "            self.context = FirstGreeting()\n",
    "            self.current_intent = None\n",
    "        \n",
    "        return prompt"
   ]
  },
  {
   "cell_type": "code",
   "execution_count": 8,
   "metadata": {
    "colab": {},
    "colab_type": "code",
    "id": "fF8Ju_AMxPzf"
   },
   "outputs": [
    {
     "name": "stdout",
     "output_type": "stream",
     "text": [
      "BOT: Hi! How may I assist you?\n",
      "User: where I am I ?\n"
     ]
    },
    {
     "ename": "FileNotFoundError",
     "evalue": "[WinError 3] The system cannot find the path specified: './entities/'",
     "output_type": "error",
     "traceback": [
      "\u001b[1;31m---------------------------------------------------------------------------\u001b[0m",
      "\u001b[1;31mFileNotFoundError\u001b[0m                         Traceback (most recent call last)",
      "\u001b[1;32m<ipython-input-8-43b70ff3ef22>\u001b[0m in \u001b[0;36m<module>\u001b[1;34m\u001b[0m\n\u001b[0;32m      6\u001b[0m \u001b[1;33m\u001b[0m\u001b[0m\n\u001b[0;32m      7\u001b[0m     \u001b[0minp\u001b[0m \u001b[1;33m=\u001b[0m \u001b[0minput\u001b[0m\u001b[1;33m(\u001b[0m\u001b[1;34m'User: '\u001b[0m\u001b[1;33m)\u001b[0m\u001b[1;33m\u001b[0m\u001b[1;33m\u001b[0m\u001b[0m\n\u001b[1;32m----> 8\u001b[1;33m     \u001b[0mprint\u001b[0m \u001b[1;33m(\u001b[0m\u001b[1;34m'BOT:'\u001b[0m\u001b[1;33m,\u001b[0m \u001b[0msession\u001b[0m\u001b[1;33m.\u001b[0m\u001b[0mreply\u001b[0m\u001b[1;33m(\u001b[0m\u001b[0minp\u001b[0m\u001b[1;33m)\u001b[0m\u001b[1;33m)\u001b[0m\u001b[1;33m\u001b[0m\u001b[1;33m\u001b[0m\u001b[0m\n\u001b[0m",
      "\u001b[1;32m<ipython-input-6-34904a647d21>\u001b[0m in \u001b[0;36mreply\u001b[1;34m(self, user_input)\u001b[0m\n\u001b[0;32m     26\u001b[0m         \u001b[1;34m'''Generate response to user input'''\u001b[0m\u001b[1;33m\u001b[0m\u001b[1;33m\u001b[0m\u001b[0m\n\u001b[0;32m     27\u001b[0m \u001b[1;33m\u001b[0m\u001b[0m\n\u001b[1;32m---> 28\u001b[1;33m         \u001b[0mself\u001b[0m\u001b[1;33m.\u001b[0m\u001b[0mattributes\u001b[0m\u001b[1;33m,\u001b[0m \u001b[0mclean_input\u001b[0m \u001b[1;33m=\u001b[0m \u001b[0minput_processor\u001b[0m\u001b[1;33m(\u001b[0m\u001b[0muser_input\u001b[0m\u001b[1;33m,\u001b[0m \u001b[0mself\u001b[0m\u001b[1;33m.\u001b[0m\u001b[0mcontext\u001b[0m\u001b[1;33m,\u001b[0m \u001b[0mself\u001b[0m\u001b[1;33m.\u001b[0m\u001b[0mattributes\u001b[0m\u001b[1;33m,\u001b[0m \u001b[0mself\u001b[0m\u001b[1;33m.\u001b[0m\u001b[0mcurrent_intent\u001b[0m\u001b[1;33m)\u001b[0m\u001b[1;33m\u001b[0m\u001b[1;33m\u001b[0m\u001b[0m\n\u001b[0m\u001b[0;32m     29\u001b[0m \u001b[1;33m\u001b[0m\u001b[0m\n\u001b[0;32m     30\u001b[0m         \u001b[0mself\u001b[0m\u001b[1;33m.\u001b[0m\u001b[0mcurrent_intent\u001b[0m \u001b[1;33m=\u001b[0m \u001b[0mintentIdentifier\u001b[0m\u001b[1;33m(\u001b[0m\u001b[0mclean_input\u001b[0m\u001b[1;33m,\u001b[0m \u001b[0mself\u001b[0m\u001b[1;33m.\u001b[0m\u001b[0mcontext\u001b[0m\u001b[1;33m,\u001b[0m \u001b[0mself\u001b[0m\u001b[1;33m.\u001b[0m\u001b[0mcurrent_intent\u001b[0m\u001b[1;33m)\u001b[0m\u001b[1;33m\u001b[0m\u001b[1;33m\u001b[0m\u001b[0m\n",
      "\u001b[1;32m<ipython-input-5-55d097859836>\u001b[0m in \u001b[0;36minput_processor\u001b[1;34m(user_input, context, attributes, intent)\u001b[0m\n\u001b[0;32m     32\u001b[0m \u001b[1;33m\u001b[0m\u001b[0m\n\u001b[0;32m     33\u001b[0m     \u001b[1;31m#update the attributes, abstract over the entities in user input\u001b[0m\u001b[1;33m\u001b[0m\u001b[1;33m\u001b[0m\u001b[1;33m\u001b[0m\u001b[0m\n\u001b[1;32m---> 34\u001b[1;33m     \u001b[0mattributes\u001b[0m\u001b[1;33m,\u001b[0m \u001b[0mcleaned_input\u001b[0m \u001b[1;33m=\u001b[0m \u001b[0mgetattributes\u001b[0m\u001b[1;33m(\u001b[0m\u001b[0muser_input\u001b[0m\u001b[1;33m,\u001b[0m \u001b[0mcontext\u001b[0m\u001b[1;33m,\u001b[0m \u001b[0mattributes\u001b[0m\u001b[1;33m)\u001b[0m\u001b[1;33m\u001b[0m\u001b[1;33m\u001b[0m\u001b[0m\n\u001b[0m\u001b[0;32m     35\u001b[0m \u001b[1;33m\u001b[0m\u001b[0m\n\u001b[0;32m     36\u001b[0m     \u001b[1;32mreturn\u001b[0m \u001b[0mattributes\u001b[0m\u001b[1;33m,\u001b[0m \u001b[0mcleaned_input\u001b[0m\u001b[1;33m\u001b[0m\u001b[1;33m\u001b[0m\u001b[0m\n",
      "\u001b[1;32m<ipython-input-5-55d097859836>\u001b[0m in \u001b[0;36mgetattributes\u001b[1;34m(uinput, context, attributes)\u001b[0m\n\u001b[0;32m     73\u001b[0m     \u001b[1;32melse\u001b[0m\u001b[1;33m:\u001b[0m\u001b[1;33m\u001b[0m\u001b[1;33m\u001b[0m\u001b[0m\n\u001b[0;32m     74\u001b[0m         \u001b[1;31m#Code can be optimised here, loading the same files each time suboptimal\u001b[0m\u001b[1;33m\u001b[0m\u001b[1;33m\u001b[0m\u001b[1;33m\u001b[0m\u001b[0m\n\u001b[1;32m---> 75\u001b[1;33m         \u001b[0mfiles\u001b[0m \u001b[1;33m=\u001b[0m \u001b[0mos\u001b[0m\u001b[1;33m.\u001b[0m\u001b[0mlistdir\u001b[0m\u001b[1;33m(\u001b[0m\u001b[1;34m'./entities/'\u001b[0m\u001b[1;33m)\u001b[0m\u001b[1;33m\u001b[0m\u001b[1;33m\u001b[0m\u001b[0m\n\u001b[0m\u001b[0;32m     76\u001b[0m         \u001b[0mentities\u001b[0m \u001b[1;33m=\u001b[0m \u001b[1;33m{\u001b[0m\u001b[1;33m}\u001b[0m\u001b[1;33m\u001b[0m\u001b[1;33m\u001b[0m\u001b[0m\n\u001b[0;32m     77\u001b[0m         \u001b[1;32mfor\u001b[0m \u001b[0mfil\u001b[0m \u001b[1;32min\u001b[0m \u001b[0mfiles\u001b[0m\u001b[1;33m:\u001b[0m\u001b[1;33m\u001b[0m\u001b[1;33m\u001b[0m\u001b[0m\n",
      "\u001b[1;31mFileNotFoundError\u001b[0m: [WinError 3] The system cannot find the path specified: './entities/'"
     ]
    }
   ],
   "source": [
    "session = Session()\n",
    "\n",
    "print ('BOT: Hi! How may I assist you?')\n",
    "\n",
    "while True:\n",
    "    \n",
    "    inp = input('User: ')\n",
    "    print ('BOT:', session.reply(inp))"
   ]
  },
  {
   "cell_type": "markdown",
   "metadata": {
    "colab_type": "text",
    "id": "9H59CjxKrCXm"
   },
   "source": [
    "#### If you want to add new intents and entities and params to the files given to you use the below code\n",
    "\n",
    "\n"
   ]
  },
  {
   "cell_type": "code",
   "execution_count": null,
   "metadata": {
    "colab": {
     "base_uri": "https://localhost:8080/",
     "height": 35
    },
    "colab_type": "code",
    "executionInfo": {
     "elapsed": 5135,
     "status": "ok",
     "timestamp": 1567668086912,
     "user": {
      "displayName": "AIML Support",
      "photoUrl": "",
      "userId": "10944637975474083227"
     },
     "user_tz": -330
    },
    "id": "ek9F7NfywoJf",
    "outputId": "dae55807-4fd9-4175-b82a-6069966e25a3"
   },
   "outputs": [],
   "source": [
    "##Write the contents of the cell to a file.\n",
    "##The file will be overwritten unless the -a flag is specified.\n",
    "%%writefile -a filename\n",
    "### your text here"
   ]
  },
  {
   "cell_type": "markdown",
   "metadata": {
    "colab_type": "text",
    "id": "OSxKjc9vwlf_"
   },
   "source": [
    "#### Run the below command to view the contents that are added to the file"
   ]
  },
  {
   "cell_type": "code",
   "execution_count": 9,
   "metadata": {
    "colab": {
     "base_uri": "https://localhost:8080/",
     "height": 35
    },
    "colab_type": "code",
    "executionInfo": {
     "elapsed": 5299,
     "status": "ok",
     "timestamp": 1567668090212,
     "user": {
      "displayName": "AIML Support",
      "photoUrl": "",
      "userId": "10944637975474083227"
     },
     "user_tz": -330
    },
    "id": "2KR_ZGqArN5N",
    "outputId": "9b4765a5-e7e7-4a68-c274-6d9519f8476c"
   },
   "outputs": [
    {
     "name": "stderr",
     "output_type": "stream",
     "text": [
      "UsageError: Line magic function `%cat` not found.\n"
     ]
    }
   ],
   "source": [
    "%cat publisher.dat"
   ]
  },
  {
   "cell_type": "code",
   "execution_count": 10,
   "metadata": {
    "colab": {
     "base_uri": "https://localhost:8080/",
     "height": 35
    },
    "colab_type": "code",
    "executionInfo": {
     "elapsed": 3943,
     "status": "ok",
     "timestamp": 1567668083730,
     "user": {
      "displayName": "AIML Support",
      "photoUrl": "",
      "userId": "10944637975474083227"
     },
     "user_tz": -330
    },
    "id": "me96A9Tgx1AZ",
    "outputId": "84508ecb-1280-4385-b472-eac51309fa60"
   },
   "outputs": [
    {
     "name": "stdout",
     "output_type": "stream",
     "text": [
      " Volume in drive C has no label.\n",
      " Volume Serial Number is 70EC-94C2\n",
      "\n",
      " Directory of C:\\Users\\tsipl1494\\Desktop\\coder\\Chatbot\n",
      "\n",
      "05-03-2020  17:28    <DIR>          .\n",
      "05-03-2020  17:28    <DIR>          ..\n",
      "05-03-2020  12:26    <DIR>          .ipynb_checkpoints\n",
      "03-03-2020  18:31         3,188,589 b11h2g21v1.zip\n",
      "03-03-2020  18:31           221,136 Chatbot Architecture.pdf\n",
      "03-03-2020  18:31           167,363 Chatbot Hackathon.pdf\n",
      "05-03-2020  17:28            23,378 Chatbot_v3.ipynb\n",
      "03-03-2020  18:31             7,854 FAQs_for_M2E31_Alexa_chatbot_prep.docx\n",
      "03-03-2020  18:35            99,936 G_Copy of Chatbot_v3.ipynb\n",
      "03-03-2020  18:31               741 HelperFunctionToReadUtterancesIntoLambda.py\n",
      "05-03-2020  12:34            19,114 lambda_function.py\n",
      "03-03-2020  18:31           101,334 Prelude to Alexa Chatbot Hackathon.pdf\n",
      "03-03-2020  18:31            32,385 working_json\n",
      "              10 File(s)      3,861,830 bytes\n",
      "               3 Dir(s)  23,967,903,744 bytes free\n"
     ]
    }
   ],
   "source": [
    "%ls"
   ]
  },
  {
   "cell_type": "markdown",
   "metadata": {
    "colab_type": "text",
    "id": "OeRyrkRQTP8a"
   },
   "source": [
    "### Run the below cell to download the Word2Vec bin file "
   ]
  },
  {
   "cell_type": "code",
   "execution_count": null,
   "metadata": {
    "colab": {},
    "colab_type": "code",
    "id": "c-utHoZRxPzm"
   },
   "outputs": [],
   "source": [
    "!wget https://cdn.talentsprint.com/aiml/Chatbot/GoogleNews-vectors-negative300.bin"
   ]
  },
  {
   "cell_type": "code",
   "execution_count": null,
   "metadata": {
    "colab": {},
    "colab_type": "code",
    "id": "06Jq1ottTiMC"
   },
   "outputs": [],
   "source": []
  }
 ],
 "metadata": {
  "colab": {
   "collapsed_sections": [],
   "name": "Chatbot_v3.ipynb",
   "provenance": []
  },
  "kernelspec": {
   "display_name": "Python 3",
   "language": "python",
   "name": "python3"
  },
  "language_info": {
   "codemirror_mode": {
    "name": "ipython",
    "version": 3
   },
   "file_extension": ".py",
   "mimetype": "text/x-python",
   "name": "python",
   "nbconvert_exporter": "python",
   "pygments_lexer": "ipython3",
   "version": "3.7.4"
  }
 },
 "nbformat": 4,
 "nbformat_minor": 1
}
